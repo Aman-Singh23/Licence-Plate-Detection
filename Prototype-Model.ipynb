{
 "cells": [
  {
   "cell_type": "markdown",
   "metadata": {},
   "source": [
    "## Drawing Lines in video/real time tracking "
   ]
  },
  {
   "cell_type": "code",
   "execution_count": 1,
   "metadata": {},
   "outputs": [],
   "source": [
    "import cv2\n",
    "import time\n",
    "cascade_src = 'dataset/cars1.xml'\n",
    "video_src = 'dataset/video3.MP4'\n",
    "#line a\n",
    "ax1=70\n",
    "ay=90\n",
    "ax2=230\n",
    "#line b\n",
    "bx1=15\n",
    "by=125\n",
    "bx2=225\n",
    "#car num\n",
    "i = 1\n",
    "start_time = time.time()\n",
    "#video ....\n",
    "cap = cv2.VideoCapture(video_src)\n",
    "car_cascade = cv2.CascadeClassifier(cascade_src) \n",
    "img_counter = 0"
   ]
  },
  {
   "cell_type": "markdown",
   "metadata": {},
   "source": [
    "## Calculating Time"
   ]
  },
  {
   "cell_type": "code",
   "execution_count": 2,
   "metadata": {},
   "outputs": [],
   "source": [
    "# Here i converted m to Km and second to hour then divison to reach Speed in this form (KM/H) \n",
    "# the 9.144 is distance of free space between two lines # found in https://news.osu.edu/slow-down----those-lines-on-the-road-are-longer-than-you-think/\n",
    "# i know that the 9.144 is an standard and my video may not be that but its like guess and its need Field research\n",
    "\n",
    "def Speed_Cal(time):\n",
    "    \n",
    "    try:\n",
    "        Speed = (9.144*3600)/(time*1000)\n",
    "        return Speed\n",
    "    except ZeroDivisionError:\n",
    "        print (5)"
   ]
  },
  {
   "cell_type": "markdown",
   "metadata": {},
   "source": [
    "## Speed Tracker"
   ]
  },
  {
   "cell_type": "code",
   "execution_count": 3,
   "metadata": {},
   "outputs": [
    {
     "name": "stdout",
     "output_type": "stream",
     "text": [
      "Car Number 1 Speed: 141.4426174492959\n",
      "opencv_frame_0.png written!\n",
      "Car Number 2 Speed: 36.406984919198884\n",
      "opencv_frame_1.png written!\n",
      "Car Number 3 Speed: 10.884382694284417\n",
      "Car Number 4 Speed: 8.377610706272497\n",
      "Car Number 5 Speed: 14.128064795152962\n",
      "Car Number 6 Speed: 5.872422667851843\n",
      "Car Number 7 Speed: 5.808908389769422\n",
      "Car Number 8 Speed: 117.95603214779085\n",
      "opencv_frame_2.png written!\n",
      "Car Number 9 Speed: 22.531913755782515\n",
      "opencv_frame_3.png written!\n",
      "Car Number 10 Speed: 13.308817975483281\n",
      "Car Number 11 Speed: 3.0174911570144567\n",
      "Car Number 12 Speed: 141.7071150219843\n",
      "opencv_frame_4.png written!\n",
      "Car Number 13 Speed: 15.231320949790836\n",
      "opencv_frame_5.png written!\n",
      "Car Number 14 Speed: 7.699249378772677\n",
      "Car Number 15 Speed: 5.9812897051081215\n"
     ]
    }
   ],
   "source": [
    "while True:\n",
    "    ret, img = cap.read()\n",
    "    if (type(img) == type(None)):\n",
    "        break\n",
    "        \n",
    "    ret, frame = cap.read()\n",
    "    if not ret:\n",
    "        print(\"failed to grab frame\")\n",
    "        break\n",
    "    #bluring to have exacter detection\n",
    "    blurred = cv2.blur(img,ksize=(15,15))\n",
    "    gray = cv2.cvtColor(blurred, cv2.COLOR_BGR2GRAY)\n",
    "    cars = car_cascade.detectMultiScale(gray, 1.1, 2)\n",
    "    \n",
    "    #line a #i know road has got \n",
    "    cv2.line(img,(ax1,ay),(ax2,ay),(255,0,0),2)\n",
    "    #line b\n",
    "    cv2.line(img,(bx1,by),(bx2,by),(255,0,0),2)\n",
    "    for (x,y,w,h) in cars:\n",
    "        cv2.rectangle(img,(x,y),(x+w,y+h),(0,0,255),2)   \n",
    "        cv2.circle(img,(int((x+x+w)/2),int((y+y+h)/2)),1,(0,255,0),-1)\n",
    "        \n",
    "        \n",
    "        while int(ay) == int((y+y+h)/2):\n",
    "            start_time = time.time()\n",
    "            break\n",
    "              \n",
    "          \n",
    "        while int(ay) <= int((y+y+h)/2):\n",
    "            if int(by) <= int((y+y+h)/2)&int(by+10) >= int((y+y+h)/2):\n",
    "                cv2.line(img,(bx1,by),(bx2,by),(0,255,0),2)\n",
    "                Speed = Speed_Cal(time.time() - start_time)\n",
    "    \n",
    "                print(\"Car Number \"+str(i)+\" Speed: \"+str(Speed))\n",
    "                i = i + 1\n",
    "            \n",
    "                k = cv2.waitKey(1)\n",
    "                if k%256 == 27:\n",
    "        # ESC pressed\n",
    "                    print(\"Escape hit, closing...\")\n",
    "                    break\n",
    "                elif Speed > 15:\n",
    "            # SPACE pressed\n",
    "                    img_name = \"opencv_frame_{}.png\".format(img_counter)\n",
    "                    cv2.imwrite(img_name, frame)\n",
    "                    print(\"{} written!\".format(img_name))\n",
    "                    img_counter += 1\n",
    "                cv2.putText(img, \"Speed: \"+str(Speed)+\"KM/H\", (x,y-15), cv2.FONT_HERSHEY_SIMPLEX, 1, (255,0,0),3);\n",
    "                break\n",
    "            else :\n",
    "                cv2.putText(img, \"Calcuting\", (100,200), cv2.FONT_HERSHEY_SIMPLEX, 1,(0,255,0),3)\n",
    "                break\n",
    "                \n",
    "       \n",
    "                \n",
    "                \n",
    "    cv2.imshow('video', img)\n",
    "    \n",
    "    if cv2.waitKey(33) == 27:\n",
    "        break\n",
    "\n",
    "cv2.destroyAllWindows()"
   ]
  },
  {
   "cell_type": "markdown",
   "metadata": {},
   "source": [
    "## Capturing frame from videos"
   ]
  },
  {
   "cell_type": "code",
   "execution_count": 4,
   "metadata": {},
   "outputs": [
    {
     "name": "stdout",
     "output_type": "stream",
     "text": [
      "opencv_frame_0.png written!\n",
      "opencv_frame_1.png written!\n",
      "opencv_frame_2.png written!\n",
      "opencv_frame_3.png written!\n",
      "Escape hit, closing...\n"
     ]
    }
   ],
   "source": [
    "import cv2\n",
    "\n",
    "cam = cv2.VideoCapture('dataset/video3.MP4')\n",
    "\n",
    "cv2.namedWindow(\"test\")\n",
    "\n",
    "img_counter = 0\n",
    "\n",
    "while True:\n",
    "    ret, frame = cam.read()\n",
    "    if not ret:\n",
    "        print(\"failed to grab frame\")\n",
    "        break\n",
    "    cv2.imshow(\"test\", frame)\n",
    "\n",
    "    k = cv2.waitKey(1)\n",
    "    if k%256 == 27:\n",
    "        # ESC pressed\n",
    "        print(\"Escape hit, closing...\")\n",
    "        break\n",
    "    elif k%256 == 32:\n",
    "        \n",
    "        # SPACE pressed\n",
    "        img_name = \"opencv_frame_{}.png\".format(img_counter)\n",
    "        cv2.imwrite(img_name, frame)\n",
    "        print(\"{} written!\".format(img_name))\n",
    "        img_counter += 1\n",
    "\n",
    "cam.release()\n",
    "\n",
    "cv2.destroyAllWindows()"
   ]
  },
  {
   "cell_type": "code",
   "execution_count": null,
   "metadata": {},
   "outputs": [],
   "source": []
  }
 ],
 "metadata": {
  "kernelspec": {
   "display_name": "Python 3",
   "language": "python",
   "name": "python3"
  },
  "language_info": {
   "codemirror_mode": {
    "name": "ipython",
    "version": 3
   },
   "file_extension": ".py",
   "mimetype": "text/x-python",
   "name": "python",
   "nbconvert_exporter": "python",
   "pygments_lexer": "ipython3",
   "version": "3.8.8"
  }
 },
 "nbformat": 4,
 "nbformat_minor": 2
}
